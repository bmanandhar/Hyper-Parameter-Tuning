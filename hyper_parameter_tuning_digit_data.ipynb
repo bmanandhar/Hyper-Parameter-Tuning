{
 "cells": [
  {
   "cell_type": "code",
   "execution_count": 1,
   "id": "b50fd3bc",
   "metadata": {},
   "outputs": [],
   "source": [
    "#import different algorithms, models n libraries\n",
    "\n",
    "import numpy as np; import pandas as pd\n",
    "from sklearn.datasets import load_digits\n",
    "from sklearn.svm import SVC\n",
    "from sklearn.ensemble import RandomForestClassifier\n",
    "from sklearn.linear_model import LogisticRegression\n",
    "from sklearn.naive_bayes import GaussianNB, MultinomialNB\n",
    "from sklearn.tree import DecisionTreeClassifier\n",
    "from sklearn.model_selection import GridSearchCV\n",
    "\n",
    "#We are trying to find the best possible model. \n",
    "#For any model to be the best, we should be able \n",
    "#to supply best possible parameters.\n",
    "#If we manually try to find out the best params,\n",
    "#it will be too tedious and time consuming.\n",
    "#Hence we will use GridSearchCV model and avoid\n",
    "#all other models that we knew already.\n",
    "#I have worked out all known manual method below.\n",
    "#Finally, GridSearchCV model is used at the end."
   ]
  },
  {
   "cell_type": "code",
   "execution_count": 2,
   "id": "0b6ce96b",
   "metadata": {},
   "outputs": [
    {
     "data": {
      "text/plain": [
       "dict_keys(['data', 'target', 'frame', 'feature_names', 'target_names', 'images', 'DESCR'])"
      ]
     },
     "execution_count": 2,
     "metadata": {},
     "output_type": "execute_result"
    }
   ],
   "source": [
    "\n",
    "digits = load_digits()\n",
    "digits.keys()"
   ]
  },
  {
   "cell_type": "code",
   "execution_count": 3,
   "id": "1287966e",
   "metadata": {},
   "outputs": [
    {
     "data": {
      "text/plain": [
       "array([[ 0.,  0.,  5., 13.,  9.,  1.,  0.,  0.,  0.,  0., 13., 15., 10.,\n",
       "        15.,  5.,  0.,  0.,  3., 15.,  2.,  0., 11.,  8.,  0.,  0.,  4.,\n",
       "        12.,  0.,  0.,  8.,  8.,  0.,  0.,  5.,  8.,  0.,  0.,  9.,  8.,\n",
       "         0.,  0.,  4., 11.,  0.,  1., 12.,  7.,  0.,  0.,  2., 14.,  5.,\n",
       "        10., 12.,  0.,  0.,  0.,  0.,  6., 13., 10.,  0.,  0.,  0.]])"
      ]
     },
     "execution_count": 3,
     "metadata": {},
     "output_type": "execute_result"
    }
   ],
   "source": [
    "digits.data[:1]"
   ]
  },
  {
   "cell_type": "code",
   "execution_count": 4,
   "id": "9011cf1f",
   "metadata": {},
   "outputs": [
    {
     "data": {
      "text/plain": [
       "['pixel_0_0', 'pixel_0_1', 'pixel_0_2', 'pixel_0_3', 'pixel_0_4']"
      ]
     },
     "execution_count": 4,
     "metadata": {},
     "output_type": "execute_result"
    }
   ],
   "source": [
    "digits.feature_names[:5]"
   ]
  },
  {
   "cell_type": "code",
   "execution_count": 5,
   "id": "5c78690c",
   "metadata": {},
   "outputs": [
    {
     "data": {
      "text/plain": [
       "64"
      ]
     },
     "execution_count": 5,
     "metadata": {},
     "output_type": "execute_result"
    }
   ],
   "source": [
    "len(digits.feature_names)"
   ]
  },
  {
   "cell_type": "code",
   "execution_count": 6,
   "id": "5d7fa1c3",
   "metadata": {},
   "outputs": [
    {
     "data": {
      "text/plain": [
       "array([0, 1, 2, ..., 8, 9, 8])"
      ]
     },
     "execution_count": 6,
     "metadata": {},
     "output_type": "execute_result"
    }
   ],
   "source": [
    "digits.target"
   ]
  },
  {
   "cell_type": "code",
   "execution_count": 7,
   "id": "3f827c0f",
   "metadata": {},
   "outputs": [
    {
     "data": {
      "text/plain": [
       "1797"
      ]
     },
     "execution_count": 7,
     "metadata": {},
     "output_type": "execute_result"
    }
   ],
   "source": [
    "len(digits.target)"
   ]
  },
  {
   "cell_type": "code",
   "execution_count": 8,
   "id": "9051056a",
   "metadata": {},
   "outputs": [
    {
     "data": {
      "text/plain": [
       "0.38333333333333336"
      ]
     },
     "execution_count": 8,
     "metadata": {},
     "output_type": "execute_result"
    }
   ],
   "source": [
    "from sklearn.model_selection import train_test_split, cross_val_score\n",
    "#Approach#01: train_test_split to manually tune params (trial n error)\n",
    "X_train,X_test,y_train,y_test = train_test_split(digits.data,digits.target,test_size=0.3)\n",
    "model = SVC(kernel='rbf',C=30,gamma='auto')\n",
    "model.fit(X_train,y_train)\n",
    "model.score(X_test,y_test)"
   ]
  },
  {
   "cell_type": "code",
   "execution_count": 9,
   "id": "016f29b3",
   "metadata": {},
   "outputs": [
    {
     "data": {
      "text/plain": [
       "array([0.96388889, 0.91944444, 0.96657382, 0.9637883 , 0.92479109])"
      ]
     },
     "execution_count": 9,
     "metadata": {},
     "output_type": "execute_result"
    }
   ],
   "source": [
    "#Approach#02: K-fold Cross Validation, mnually supply diff params\n",
    "cross_val_score(SVC(kernel='linear',C=10,gamma='auto'),digits.data,digits.target,cv=5)\n"
   ]
  },
  {
   "cell_type": "code",
   "execution_count": 10,
   "id": "ae5c8d3b",
   "metadata": {},
   "outputs": [
    {
     "data": {
      "text/plain": [
       "array([0.45277778, 0.46944444, 0.47910864, 0.47910864, 0.50139276])"
      ]
     },
     "execution_count": 10,
     "metadata": {},
     "output_type": "execute_result"
    }
   ],
   "source": [
    "cross_val_score(SVC(kernel='rbf',C=10,gamma='auto'),digits.data,digits.target,cv=5)\n"
   ]
  },
  {
   "cell_type": "code",
   "execution_count": 11,
   "id": "1377596d",
   "metadata": {},
   "outputs": [
    {
     "data": {
      "text/plain": [
       "array([0.96388889, 0.91944444, 0.96657382, 0.9637883 , 0.92479109])"
      ]
     },
     "execution_count": 11,
     "metadata": {},
     "output_type": "execute_result"
    }
   ],
   "source": [
    "cross_val_score(SVC(kernel='linear',C=20,gamma='auto'),digits.data,digits.target,cv=5)\n"
   ]
  },
  {
   "cell_type": "code",
   "execution_count": 12,
   "id": "3f7bbc01",
   "metadata": {},
   "outputs": [
    {
     "data": {
      "text/html": [
       "<div>\n",
       "<style scoped>\n",
       "    .dataframe tbody tr th:only-of-type {\n",
       "        vertical-align: middle;\n",
       "    }\n",
       "\n",
       "    .dataframe tbody tr th {\n",
       "        vertical-align: top;\n",
       "    }\n",
       "\n",
       "    .dataframe thead th {\n",
       "        text-align: right;\n",
       "    }\n",
       "</style>\n",
       "<table border=\"1\" class=\"dataframe\">\n",
       "  <thead>\n",
       "    <tr style=\"text-align: right;\">\n",
       "      <th></th>\n",
       "      <th>kernel</th>\n",
       "      <th>C</th>\n",
       "      <th>score</th>\n",
       "    </tr>\n",
       "  </thead>\n",
       "  <tbody>\n",
       "    <tr>\n",
       "      <th>0</th>\n",
       "      <td>rbf</td>\n",
       "      <td>1</td>\n",
       "      <td>0.449</td>\n",
       "    </tr>\n",
       "    <tr>\n",
       "      <th>1</th>\n",
       "      <td>rbf</td>\n",
       "      <td>10</td>\n",
       "      <td>0.476</td>\n",
       "    </tr>\n",
       "    <tr>\n",
       "      <th>2</th>\n",
       "      <td>rbf</td>\n",
       "      <td>20</td>\n",
       "      <td>0.476</td>\n",
       "    </tr>\n",
       "    <tr>\n",
       "      <th>3</th>\n",
       "      <td>linear</td>\n",
       "      <td>1</td>\n",
       "      <td>0.948</td>\n",
       "    </tr>\n",
       "    <tr>\n",
       "      <th>4</th>\n",
       "      <td>linear</td>\n",
       "      <td>10</td>\n",
       "      <td>0.948</td>\n",
       "    </tr>\n",
       "    <tr>\n",
       "      <th>5</th>\n",
       "      <td>linear</td>\n",
       "      <td>20</td>\n",
       "      <td>0.948</td>\n",
       "    </tr>\n",
       "  </tbody>\n",
       "</table>\n",
       "</div>"
      ],
      "text/plain": [
       "   kernel   C  score\n",
       "0     rbf   1  0.449\n",
       "1     rbf  10  0.476\n",
       "2     rbf  20  0.476\n",
       "3  linear   1  0.948\n",
       "4  linear  10  0.948\n",
       "5  linear  20  0.948"
      ]
     },
     "execution_count": 12,
     "metadata": {},
     "output_type": "execute_result"
    }
   ],
   "source": [
    "#All above methods are tiresome and very manual.Now, use loop as an alternative\n",
    "kernels = ['rbf', 'linear']\n",
    "C = [1, 10, 20]\n",
    "avg_scores = {'kernel': [], 'C': [], 'score': []}\n",
    "for kval in kernels:\n",
    "    for cval in C:\n",
    "        cv_scores = cross_val_score(SVC(kernel=kval, C=cval, gamma='auto'), digits.data, digits.target, cv=5)\n",
    "        avg_scores['kernel'].append(kval)\n",
    "        avg_scores['C'].append(cval)\n",
    "        avg_scores['score'].append(round(np.average(cv_scores), 3))\n",
    "pd.DataFrame(avg_scores)"
   ]
  },
  {
   "cell_type": "code",
   "execution_count": 13,
   "id": "4a8707fd",
   "metadata": {},
   "outputs": [
    {
     "data": {
      "text/plain": [
       "{'mean_fit_time': array([0.31503501, 0.02501297, 0.30834508, 0.0252068 , 0.3023674 ,\n",
       "        0.02495112]),\n",
       " 'std_fit_time': array([0.00791813, 0.00115099, 0.00750845, 0.00111122, 0.00187156,\n",
       "        0.00094643]),\n",
       " 'mean_score_time': array([0.1209702 , 0.00674601, 0.13973184, 0.00701623, 0.12270689,\n",
       "        0.00687356]),\n",
       " 'std_score_time': array([0.00276299, 0.00015798, 0.04257886, 0.00029721, 0.00430212,\n",
       "        0.00020345]),\n",
       " 'param_C': masked_array(data=[1, 1, 10, 10, 20, 20],\n",
       "              mask=[False, False, False, False, False, False],\n",
       "        fill_value='?',\n",
       "             dtype=object),\n",
       " 'param_kernel': masked_array(data=['rbf', 'linear', 'rbf', 'linear', 'rbf', 'linear'],\n",
       "              mask=[False, False, False, False, False, False],\n",
       "        fill_value='?',\n",
       "             dtype=object),\n",
       " 'params': [{'C': 1, 'kernel': 'rbf'},\n",
       "  {'C': 1, 'kernel': 'linear'},\n",
       "  {'C': 10, 'kernel': 'rbf'},\n",
       "  {'C': 10, 'kernel': 'linear'},\n",
       "  {'C': 20, 'kernel': 'rbf'},\n",
       "  {'C': 20, 'kernel': 'linear'}],\n",
       " 'split0_test_score': array([0.41111111, 0.96388889, 0.45277778, 0.96388889, 0.45277778,\n",
       "        0.96388889]),\n",
       " 'split1_test_score': array([0.45      , 0.91944444, 0.46944444, 0.91944444, 0.46944444,\n",
       "        0.91944444]),\n",
       " 'split2_test_score': array([0.454039  , 0.96657382, 0.47910864, 0.96657382, 0.47910864,\n",
       "        0.96657382]),\n",
       " 'split3_test_score': array([0.44846797, 0.9637883 , 0.47910864, 0.9637883 , 0.47910864,\n",
       "        0.9637883 ]),\n",
       " 'split4_test_score': array([0.47910864, 0.92479109, 0.50139276, 0.92479109, 0.50139276,\n",
       "        0.92479109]),\n",
       " 'mean_test_score': array([0.44854534, 0.94769731, 0.47636645, 0.94769731, 0.47636645,\n",
       "        0.94769731]),\n",
       " 'std_test_score': array([0.02176115, 0.02097775, 0.01578414, 0.02097775, 0.01578414,\n",
       "        0.02097775]),\n",
       " 'rank_test_score': array([6, 1, 4, 1, 4, 1], dtype=int32)}"
      ]
     },
     "execution_count": 13,
     "metadata": {},
     "output_type": "execute_result"
    }
   ],
   "source": [
    "#Approac#3: GridSearchCV\n",
    "#GridSearchCV does exactly as above but in a one-line code\n",
    "#GridSearchCV being used in SVC below.\n",
    "clf = GridSearchCV(SVC(gamma='auto'),{\n",
    "    'C': [1,10,20],\n",
    "    'kernel': ['rbf','linear']\n",
    "    }, \n",
    "    cv=5, return_train_score=False)\n",
    "\n",
    "clf.fit(digits.data,digits.target)\n",
    "clf.cv_results_"
   ]
  },
  {
   "cell_type": "code",
   "execution_count": 14,
   "id": "52b8cb60",
   "metadata": {},
   "outputs": [
    {
     "data": {
      "text/html": [
       "<div>\n",
       "<style scoped>\n",
       "    .dataframe tbody tr th:only-of-type {\n",
       "        vertical-align: middle;\n",
       "    }\n",
       "\n",
       "    .dataframe tbody tr th {\n",
       "        vertical-align: top;\n",
       "    }\n",
       "\n",
       "    .dataframe thead th {\n",
       "        text-align: right;\n",
       "    }\n",
       "</style>\n",
       "<table border=\"1\" class=\"dataframe\">\n",
       "  <thead>\n",
       "    <tr style=\"text-align: right;\">\n",
       "      <th></th>\n",
       "      <th>mean_fit_time</th>\n",
       "      <th>std_fit_time</th>\n",
       "      <th>mean_score_time</th>\n",
       "      <th>std_score_time</th>\n",
       "      <th>param_C</th>\n",
       "      <th>param_kernel</th>\n",
       "      <th>params</th>\n",
       "      <th>split0_test_score</th>\n",
       "      <th>split1_test_score</th>\n",
       "      <th>split2_test_score</th>\n",
       "      <th>split3_test_score</th>\n",
       "      <th>split4_test_score</th>\n",
       "      <th>mean_test_score</th>\n",
       "      <th>std_test_score</th>\n",
       "      <th>rank_test_score</th>\n",
       "    </tr>\n",
       "  </thead>\n",
       "  <tbody>\n",
       "    <tr>\n",
       "      <th>0</th>\n",
       "      <td>0.315035</td>\n",
       "      <td>0.007918</td>\n",
       "      <td>0.120970</td>\n",
       "      <td>0.002763</td>\n",
       "      <td>1</td>\n",
       "      <td>rbf</td>\n",
       "      <td>{'C': 1, 'kernel': 'rbf'}</td>\n",
       "      <td>0.411111</td>\n",
       "      <td>0.450000</td>\n",
       "      <td>0.454039</td>\n",
       "      <td>0.448468</td>\n",
       "      <td>0.479109</td>\n",
       "      <td>0.448545</td>\n",
       "      <td>0.021761</td>\n",
       "      <td>6</td>\n",
       "    </tr>\n",
       "    <tr>\n",
       "      <th>1</th>\n",
       "      <td>0.025013</td>\n",
       "      <td>0.001151</td>\n",
       "      <td>0.006746</td>\n",
       "      <td>0.000158</td>\n",
       "      <td>1</td>\n",
       "      <td>linear</td>\n",
       "      <td>{'C': 1, 'kernel': 'linear'}</td>\n",
       "      <td>0.963889</td>\n",
       "      <td>0.919444</td>\n",
       "      <td>0.966574</td>\n",
       "      <td>0.963788</td>\n",
       "      <td>0.924791</td>\n",
       "      <td>0.947697</td>\n",
       "      <td>0.020978</td>\n",
       "      <td>1</td>\n",
       "    </tr>\n",
       "    <tr>\n",
       "      <th>2</th>\n",
       "      <td>0.308345</td>\n",
       "      <td>0.007508</td>\n",
       "      <td>0.139732</td>\n",
       "      <td>0.042579</td>\n",
       "      <td>10</td>\n",
       "      <td>rbf</td>\n",
       "      <td>{'C': 10, 'kernel': 'rbf'}</td>\n",
       "      <td>0.452778</td>\n",
       "      <td>0.469444</td>\n",
       "      <td>0.479109</td>\n",
       "      <td>0.479109</td>\n",
       "      <td>0.501393</td>\n",
       "      <td>0.476366</td>\n",
       "      <td>0.015784</td>\n",
       "      <td>4</td>\n",
       "    </tr>\n",
       "    <tr>\n",
       "      <th>3</th>\n",
       "      <td>0.025207</td>\n",
       "      <td>0.001111</td>\n",
       "      <td>0.007016</td>\n",
       "      <td>0.000297</td>\n",
       "      <td>10</td>\n",
       "      <td>linear</td>\n",
       "      <td>{'C': 10, 'kernel': 'linear'}</td>\n",
       "      <td>0.963889</td>\n",
       "      <td>0.919444</td>\n",
       "      <td>0.966574</td>\n",
       "      <td>0.963788</td>\n",
       "      <td>0.924791</td>\n",
       "      <td>0.947697</td>\n",
       "      <td>0.020978</td>\n",
       "      <td>1</td>\n",
       "    </tr>\n",
       "    <tr>\n",
       "      <th>4</th>\n",
       "      <td>0.302367</td>\n",
       "      <td>0.001872</td>\n",
       "      <td>0.122707</td>\n",
       "      <td>0.004302</td>\n",
       "      <td>20</td>\n",
       "      <td>rbf</td>\n",
       "      <td>{'C': 20, 'kernel': 'rbf'}</td>\n",
       "      <td>0.452778</td>\n",
       "      <td>0.469444</td>\n",
       "      <td>0.479109</td>\n",
       "      <td>0.479109</td>\n",
       "      <td>0.501393</td>\n",
       "      <td>0.476366</td>\n",
       "      <td>0.015784</td>\n",
       "      <td>4</td>\n",
       "    </tr>\n",
       "    <tr>\n",
       "      <th>5</th>\n",
       "      <td>0.024951</td>\n",
       "      <td>0.000946</td>\n",
       "      <td>0.006874</td>\n",
       "      <td>0.000203</td>\n",
       "      <td>20</td>\n",
       "      <td>linear</td>\n",
       "      <td>{'C': 20, 'kernel': 'linear'}</td>\n",
       "      <td>0.963889</td>\n",
       "      <td>0.919444</td>\n",
       "      <td>0.966574</td>\n",
       "      <td>0.963788</td>\n",
       "      <td>0.924791</td>\n",
       "      <td>0.947697</td>\n",
       "      <td>0.020978</td>\n",
       "      <td>1</td>\n",
       "    </tr>\n",
       "  </tbody>\n",
       "</table>\n",
       "</div>"
      ],
      "text/plain": [
       "   mean_fit_time  std_fit_time  mean_score_time  std_score_time param_C  \\\n",
       "0       0.315035      0.007918         0.120970        0.002763       1   \n",
       "1       0.025013      0.001151         0.006746        0.000158       1   \n",
       "2       0.308345      0.007508         0.139732        0.042579      10   \n",
       "3       0.025207      0.001111         0.007016        0.000297      10   \n",
       "4       0.302367      0.001872         0.122707        0.004302      20   \n",
       "5       0.024951      0.000946         0.006874        0.000203      20   \n",
       "\n",
       "  param_kernel                         params  split0_test_score  \\\n",
       "0          rbf      {'C': 1, 'kernel': 'rbf'}           0.411111   \n",
       "1       linear   {'C': 1, 'kernel': 'linear'}           0.963889   \n",
       "2          rbf     {'C': 10, 'kernel': 'rbf'}           0.452778   \n",
       "3       linear  {'C': 10, 'kernel': 'linear'}           0.963889   \n",
       "4          rbf     {'C': 20, 'kernel': 'rbf'}           0.452778   \n",
       "5       linear  {'C': 20, 'kernel': 'linear'}           0.963889   \n",
       "\n",
       "   split1_test_score  split2_test_score  split3_test_score  split4_test_score  \\\n",
       "0           0.450000           0.454039           0.448468           0.479109   \n",
       "1           0.919444           0.966574           0.963788           0.924791   \n",
       "2           0.469444           0.479109           0.479109           0.501393   \n",
       "3           0.919444           0.966574           0.963788           0.924791   \n",
       "4           0.469444           0.479109           0.479109           0.501393   \n",
       "5           0.919444           0.966574           0.963788           0.924791   \n",
       "\n",
       "   mean_test_score  std_test_score  rank_test_score  \n",
       "0         0.448545        0.021761                6  \n",
       "1         0.947697        0.020978                1  \n",
       "2         0.476366        0.015784                4  \n",
       "3         0.947697        0.020978                1  \n",
       "4         0.476366        0.015784                4  \n",
       "5         0.947697        0.020978                1  "
      ]
     },
     "execution_count": 14,
     "metadata": {},
     "output_type": "execute_result"
    }
   ],
   "source": [
    "df = pd.DataFrame(clf.cv_results_)\n",
    "df"
   ]
  },
  {
   "cell_type": "code",
   "execution_count": 15,
   "id": "c94bd4ab",
   "metadata": {},
   "outputs": [
    {
     "data": {
      "text/html": [
       "<div>\n",
       "<style scoped>\n",
       "    .dataframe tbody tr th:only-of-type {\n",
       "        vertical-align: middle;\n",
       "    }\n",
       "\n",
       "    .dataframe tbody tr th {\n",
       "        vertical-align: top;\n",
       "    }\n",
       "\n",
       "    .dataframe thead th {\n",
       "        text-align: right;\n",
       "    }\n",
       "</style>\n",
       "<table border=\"1\" class=\"dataframe\">\n",
       "  <thead>\n",
       "    <tr style=\"text-align: right;\">\n",
       "      <th></th>\n",
       "      <th>param_C</th>\n",
       "      <th>param_kernel</th>\n",
       "      <th>mean_test_score</th>\n",
       "    </tr>\n",
       "  </thead>\n",
       "  <tbody>\n",
       "    <tr>\n",
       "      <th>0</th>\n",
       "      <td>1</td>\n",
       "      <td>rbf</td>\n",
       "      <td>0.448545</td>\n",
       "    </tr>\n",
       "    <tr>\n",
       "      <th>1</th>\n",
       "      <td>1</td>\n",
       "      <td>linear</td>\n",
       "      <td>0.947697</td>\n",
       "    </tr>\n",
       "    <tr>\n",
       "      <th>2</th>\n",
       "      <td>10</td>\n",
       "      <td>rbf</td>\n",
       "      <td>0.476366</td>\n",
       "    </tr>\n",
       "    <tr>\n",
       "      <th>3</th>\n",
       "      <td>10</td>\n",
       "      <td>linear</td>\n",
       "      <td>0.947697</td>\n",
       "    </tr>\n",
       "    <tr>\n",
       "      <th>4</th>\n",
       "      <td>20</td>\n",
       "      <td>rbf</td>\n",
       "      <td>0.476366</td>\n",
       "    </tr>\n",
       "    <tr>\n",
       "      <th>5</th>\n",
       "      <td>20</td>\n",
       "      <td>linear</td>\n",
       "      <td>0.947697</td>\n",
       "    </tr>\n",
       "  </tbody>\n",
       "</table>\n",
       "</div>"
      ],
      "text/plain": [
       "  param_C param_kernel  mean_test_score\n",
       "0       1          rbf         0.448545\n",
       "1       1       linear         0.947697\n",
       "2      10          rbf         0.476366\n",
       "3      10       linear         0.947697\n",
       "4      20          rbf         0.476366\n",
       "5      20       linear         0.947697"
      ]
     },
     "execution_count": 15,
     "metadata": {},
     "output_type": "execute_result"
    }
   ],
   "source": [
    "df[['param_C','param_kernel','mean_test_score']]"
   ]
  },
  {
   "cell_type": "code",
   "execution_count": 16,
   "id": "15bf6bb9",
   "metadata": {},
   "outputs": [
    {
     "data": {
      "text/plain": [
       "{'C': 1, 'kernel': 'linear'}"
      ]
     },
     "execution_count": 16,
     "metadata": {},
     "output_type": "execute_result"
    }
   ],
   "source": [
    "clf.best_params_"
   ]
  },
  {
   "cell_type": "code",
   "execution_count": 17,
   "id": "90b5b439",
   "metadata": {},
   "outputs": [
    {
     "data": {
      "text/plain": [
       "0.9476973073351903"
      ]
     },
     "execution_count": 17,
     "metadata": {},
     "output_type": "execute_result"
    }
   ],
   "source": [
    "clf.best_score_"
   ]
  },
  {
   "cell_type": "code",
   "execution_count": 18,
   "id": "79208fc5",
   "metadata": {},
   "outputs": [
    {
     "data": {
      "text/plain": [
       "['__abstractmethods__',\n",
       " '__class__',\n",
       " '__delattr__',\n",
       " '__dict__',\n",
       " '__dir__',\n",
       " '__doc__',\n",
       " '__eq__',\n",
       " '__format__',\n",
       " '__ge__',\n",
       " '__getattribute__',\n",
       " '__getstate__',\n",
       " '__gt__',\n",
       " '__hash__',\n",
       " '__init__',\n",
       " '__init_subclass__',\n",
       " '__le__',\n",
       " '__lt__',\n",
       " '__module__',\n",
       " '__ne__',\n",
       " '__new__',\n",
       " '__reduce__',\n",
       " '__reduce_ex__',\n",
       " '__repr__',\n",
       " '__setattr__',\n",
       " '__setstate__',\n",
       " '__sizeof__',\n",
       " '__str__',\n",
       " '__subclasshook__',\n",
       " '__weakref__',\n",
       " '_abc_impl',\n",
       " '_check_feature_names',\n",
       " '_check_n_features',\n",
       " '_check_refit_for_multimetric',\n",
       " '_estimator_type',\n",
       " '_format_results',\n",
       " '_get_param_names',\n",
       " '_get_tags',\n",
       " '_more_tags',\n",
       " '_repr_html_',\n",
       " '_repr_html_inner',\n",
       " '_repr_mimebundle_',\n",
       " '_required_parameters',\n",
       " '_run_search',\n",
       " '_select_best_index',\n",
       " '_validate_data',\n",
       " '_validate_params',\n",
       " 'best_estimator_',\n",
       " 'best_index_',\n",
       " 'best_params_',\n",
       " 'best_score_',\n",
       " 'classes_',\n",
       " 'cv',\n",
       " 'cv_results_',\n",
       " 'decision_function',\n",
       " 'error_score',\n",
       " 'estimator',\n",
       " 'fit',\n",
       " 'get_params',\n",
       " 'inverse_transform',\n",
       " 'multimetric_',\n",
       " 'n_features_in_',\n",
       " 'n_jobs',\n",
       " 'n_splits_',\n",
       " 'param_grid',\n",
       " 'pre_dispatch',\n",
       " 'predict',\n",
       " 'predict_log_proba',\n",
       " 'predict_proba',\n",
       " 'refit',\n",
       " 'refit_time_',\n",
       " 'return_train_score',\n",
       " 'score',\n",
       " 'score_samples',\n",
       " 'scorer_',\n",
       " 'scoring',\n",
       " 'set_params',\n",
       " 'transform',\n",
       " 'verbose']"
      ]
     },
     "execution_count": 18,
     "metadata": {},
     "output_type": "execute_result"
    }
   ],
   "source": [
    "dir(clf)"
   ]
  },
  {
   "cell_type": "code",
   "execution_count": 19,
   "id": "44ec02b8",
   "metadata": {},
   "outputs": [
    {
     "data": {
      "text/html": [
       "<div>\n",
       "<style scoped>\n",
       "    .dataframe tbody tr th:only-of-type {\n",
       "        vertical-align: middle;\n",
       "    }\n",
       "\n",
       "    .dataframe tbody tr th {\n",
       "        vertical-align: top;\n",
       "    }\n",
       "\n",
       "    .dataframe thead th {\n",
       "        text-align: right;\n",
       "    }\n",
       "</style>\n",
       "<table border=\"1\" class=\"dataframe\">\n",
       "  <thead>\n",
       "    <tr style=\"text-align: right;\">\n",
       "      <th></th>\n",
       "      <th>model</th>\n",
       "      <th>best_score</th>\n",
       "      <th>best_params</th>\n",
       "    </tr>\n",
       "  </thead>\n",
       "  <tbody>\n",
       "    <tr>\n",
       "      <th>0</th>\n",
       "      <td>svm</td>\n",
       "      <td>0.947697</td>\n",
       "      <td>{'C': 1, 'kernel': 'linear'}</td>\n",
       "    </tr>\n",
       "    <tr>\n",
       "      <th>1</th>\n",
       "      <td>random_forest</td>\n",
       "      <td>0.908193</td>\n",
       "      <td>{'n_estimators': 10}</td>\n",
       "    </tr>\n",
       "    <tr>\n",
       "      <th>2</th>\n",
       "      <td>logistic_regression</td>\n",
       "      <td>0.922114</td>\n",
       "      <td>{'C': 1}</td>\n",
       "    </tr>\n",
       "    <tr>\n",
       "      <th>3</th>\n",
       "      <td>naive_bayes_gaussian</td>\n",
       "      <td>0.806928</td>\n",
       "      <td>{}</td>\n",
       "    </tr>\n",
       "    <tr>\n",
       "      <th>4</th>\n",
       "      <td>naive_bayes_multinomial</td>\n",
       "      <td>0.870350</td>\n",
       "      <td>{}</td>\n",
       "    </tr>\n",
       "    <tr>\n",
       "      <th>5</th>\n",
       "      <td>decision_tree</td>\n",
       "      <td>0.806360</td>\n",
       "      <td>{'criterion': 'entropy'}</td>\n",
       "    </tr>\n",
       "  </tbody>\n",
       "</table>\n",
       "</div>"
      ],
      "text/plain": [
       "                     model  best_score                   best_params\n",
       "0                      svm    0.947697  {'C': 1, 'kernel': 'linear'}\n",
       "1            random_forest    0.908193          {'n_estimators': 10}\n",
       "2      logistic_regression    0.922114                      {'C': 1}\n",
       "3     naive_bayes_gaussian    0.806928                            {}\n",
       "4  naive_bayes_multinomial    0.870350                            {}\n",
       "5            decision_tree    0.806360      {'criterion': 'entropy'}"
      ]
     },
     "execution_count": 19,
     "metadata": {},
     "output_type": "execute_result"
    }
   ],
   "source": [
    "#The above lengthy code can be contracted\n",
    "#to a very simple and short code by using \n",
    "#GridSearchCV model that will all the above\n",
    "#used algorithms together and generate\n",
    "#result to choose the best.\n",
    "\n",
    "model_params = {\n",
    "    #1\n",
    "    'svm': {\n",
    "        'model': SVC(gamma='auto') , \n",
    "        'params': {'C': [1,10,20], 'kernel': ['rbf','linear']}\n",
    "    }, \n",
    "    #2\n",
    "    'random_forest': {\n",
    "        'model': RandomForestClassifier(),\n",
    "        'params': {'n_estimators': [1,5,10]}\n",
    "    }, \n",
    "    #3\n",
    "    'logistic_regression': {\n",
    "        'model': LogisticRegression(solver='liblinear', multi_class='auto'), \n",
    "        'params': {'C': [1,5,10]}\n",
    "    },\n",
    "    #4\n",
    "    'naive_bayes_gaussian': {\n",
    "        'model': GaussianNB(), \n",
    "        'params': {}\n",
    "    },\n",
    "    #5\n",
    "    'naive_bayes_multinomial': {\n",
    "        'model': MultinomialNB(), \n",
    "        'params': {}\n",
    "    },\n",
    "    #6\n",
    "    'decision_tree':{\n",
    "        'model': DecisionTreeClassifier(), \n",
    "        'params': {'criterion': ['gini', 'entropy']}\n",
    "    }\n",
    "}\n",
    "\n",
    "scores = []\n",
    "\n",
    "for model_name, mp in model_params.items():\n",
    "    clf =  GridSearchCV(mp['model'], mp['params'], cv=5, return_train_score=False)\n",
    "    clf.fit(digits.data, digits.target)\n",
    "    scores.append({\n",
    "        'model': model_name,\n",
    "        'best_score': clf.best_score_,\n",
    "        'best_params': clf.best_params_\n",
    "    })\n",
    "pd.DataFrame(scores)"
   ]
  }
 ],
 "metadata": {
  "kernelspec": {
   "display_name": "Python 3",
   "language": "python",
   "name": "python3"
  },
  "language_info": {
   "codemirror_mode": {
    "name": "ipython",
    "version": 3
   },
   "file_extension": ".py",
   "mimetype": "text/x-python",
   "name": "python",
   "nbconvert_exporter": "python",
   "pygments_lexer": "ipython3",
   "version": "3.8.8"
  }
 },
 "nbformat": 4,
 "nbformat_minor": 5
}
